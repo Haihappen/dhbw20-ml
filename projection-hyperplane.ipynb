{
 "cells": [
  {
   "cell_type": "markdown",
   "metadata": {},
   "source": [
    "# Projektionen"
   ]
  },
  {
   "cell_type": "code",
   "execution_count": null,
   "metadata": {},
   "outputs": [],
   "source": [
    "%matplotlib widget\n",
    "from mpl_toolkits.mplot3d import axes3d\n",
    "import matplotlib.pyplot as plt\n",
    "import numpy as np"
   ]
  },
  {
   "cell_type": "code",
   "execution_count": null,
   "metadata": {},
   "outputs": [],
   "source": [
    "rng = np.random.RandomState(1)\n",
    "\n",
    "def plane(X, Y, eps=0):\n",
    "    return 1 - 0.05*X + 0.05*Y + eps*rng.standard_normal(X.shape[0])\n",
    "\n",
    "x = np.arange(-5,5,0.4)\n",
    "y = np.arange(-5,5,0.4)\n",
    "X,Y = np.meshgrid(x,y)\n",
    "Z = plane(X,Y)\n",
    "\n",
    "PX = 2*np.dot(rng.rand(2, 2), rng.randn(2, 200)).T\n",
    "PZ = plane(PX[:,0], PX[:,1], 0.2)\n",
    "\n",
    "fig = plt.figure(figsize=(10,10))\n",
    "ax = fig.add_subplot(111, projection='3d')\n",
    "\n",
    "\n",
    "# Plot a 3D surface\n",
    "ax.plot_surface(X, Y, Z);\n",
    "ax.scatter(PX[:,0], PX[:,1], PZ, c='red')\n",
    "\n",
    "ax.set_xlabel('X')\n",
    "ax.set_ylabel('Y')\n",
    "ax.set_zlabel('Z')"
   ]
  },
  {
   "cell_type": "code",
   "execution_count": null,
   "metadata": {},
   "outputs": [],
   "source": []
  }
 ],
 "metadata": {
  "kernelspec": {
   "display_name": "Python 3.7.6 64-bit ('dhbw20': conda)",
   "language": "python",
   "name": "python37664bitdhbw20conda4e9f90a409f24fc4a1b2fdf8774acce3"
  },
  "language_info": {
   "codemirror_mode": {
    "name": "ipython",
    "version": 3
   },
   "file_extension": ".py",
   "mimetype": "text/x-python",
   "name": "python",
   "nbconvert_exporter": "python",
   "pygments_lexer": "ipython3",
   "version": "3.7.6"
  }
 },
 "nbformat": 4,
 "nbformat_minor": 4
}
