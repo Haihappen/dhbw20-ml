{
 "cells": [
  {
   "cell_type": "markdown",
   "metadata": {},
   "source": [
    "# Polynome"
   ]
  },
  {
   "cell_type": "code",
   "execution_count": null,
   "metadata": {},
   "outputs": [],
   "source": [
    "%matplotlib inline\n",
    "import matplotlib\n",
    "import matplotlib.pyplot as plt\n",
    "import seaborn as sns\n",
    "import numpy as np\n",
    "\n",
    "matplotlib.rcParams['text.usetex'] = True\n",
    "plt.rcParams[\"figure.figsize\"] = (10,8)"
   ]
  },
  {
   "cell_type": "markdown",
   "metadata": {},
   "source": [
    "## Hilfsfunktionen"
   ]
  },
  {
   "cell_type": "code",
   "execution_count": null,
   "metadata": {},
   "outputs": [],
   "source": [
    "n_points = 100\n",
    "\n",
    "def textCoef(c):\n",
    "    text = '-' if c < 1 else '+'\n",
    "    \n",
    "    if abs(c) != 1:\n",
    "        text = text + str(abs(c))\n",
    "    return text\n",
    "\n",
    "def makePolynom(coefs, xmin=-2, xmax=2):\n",
    "    \"\"\"Konstruiere ein Polynom, gegeben durch seine Koeffizienten\n",
    "    \"\"\"\n",
    "    x = np.linspace(xmin, xmax, n_points)\n",
    "    y = 0\n",
    "    xn = np.ones(n_points)\n",
    "    text = ''\n",
    "    i = 0\n",
    "    for c in coefs:\n",
    "        y = y + c * xn\n",
    "        xn = x * xn\n",
    "        if c == 0:\n",
    "            pass\n",
    "        elif i == 0:\n",
    "            text = str(c)\n",
    "        elif i == 1:\n",
    "            text = text + textCoef(c) + ' x'\n",
    "        else:\n",
    "            text = text + textCoef(c) + ' x^{' + str(i) + '}'\n",
    "        i = i + 1\n",
    "            \n",
    "    return [x, y, text]\n",
    "\n",
    "def plot(polynom):\n",
    "    x, y, text = polynom\n",
    "    fig, ax = plt.subplots()\n",
    "    ax.axvline(x=0, color='black', linewidth=1)\n",
    "    ax.axhline(y=0, color='black', linewidth=1)\n",
    "    ax.plot(x,y)\n",
    "    ax.set_title('$' + text + '$', fontsize=24)\n",
    "\n",
    "    "
   ]
  },
  {
   "cell_type": "code",
   "execution_count": null,
   "metadata": {},
   "outputs": [],
   "source": [
    "plot(makePolynom([1,1]))"
   ]
  },
  {
   "cell_type": "code",
   "execution_count": null,
   "metadata": {},
   "outputs": [],
   "source": [
    "plot(makePolynom([-2,0.25,1]))"
   ]
  },
  {
   "cell_type": "code",
   "execution_count": null,
   "metadata": {},
   "outputs": [],
   "source": [
    "plot(makePolynom([2,-6,-3,4]))"
   ]
  },
  {
   "cell_type": "code",
   "execution_count": null,
   "metadata": {},
   "outputs": [],
   "source": [
    "coefs=[1,-1,1,-1,1,-1,1,-1,1,-1,1,-1,1,-1,1]\n",
    "plot(makePolynom(coefs))"
   ]
  },
  {
   "cell_type": "code",
   "execution_count": null,
   "metadata": {},
   "outputs": [],
   "source": [
    "plot(makePolynom(coefs, -1, 1))"
   ]
  },
  {
   "cell_type": "code",
   "execution_count": null,
   "metadata": {},
   "outputs": [],
   "source": [
    "plot(makePolynom([-1,0,1]))"
   ]
  },
  {
   "cell_type": "code",
   "execution_count": null,
   "metadata": {},
   "outputs": [],
   "source": [
    "plot(makePolynom([-1,0,0,1]))"
   ]
  },
  {
   "cell_type": "code",
   "execution_count": null,
   "metadata": {},
   "outputs": [],
   "source": []
  }
 ],
 "metadata": {
  "kernelspec": {
   "display_name": "Python 3",
   "language": "python",
   "name": "python3"
  },
  "language_info": {
   "codemirror_mode": {
    "name": "ipython",
    "version": 3
   },
   "file_extension": ".py",
   "mimetype": "text/x-python",
   "name": "python",
   "nbconvert_exporter": "python",
   "pygments_lexer": "ipython3",
   "version": "3.7.6"
  }
 },
 "nbformat": 4,
 "nbformat_minor": 4
}
