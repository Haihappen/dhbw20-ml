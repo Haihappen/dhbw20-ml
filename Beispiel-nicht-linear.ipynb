{
 "cells": [
  {
   "cell_type": "code",
   "execution_count": null,
   "metadata": {},
   "outputs": [],
   "source": [
    "import numpy as np\n",
    "import matplotlib.pyplot as plt\n",
    "\n",
    "plt.rcParams[\"figure.figsize\"] = (10,7)\n",
    "\n",
    "from sklearn.linear_model import LinearRegression\n",
    "\n",
    "n_sample=50\n",
    "\n",
    "rng = np.random.default_rng(1)\n",
    "x = -1 + 4 * rng.random(n_sample)\n",
    "y = x - 2 * (x ** 2) + 0.5 * (x ** 3) + 0.3 * rng.standard_normal(n_sample)\n",
    "\n",
    "# Mache x und y zu shape (n_sample, 1) (also Spaltenvektoren)\n",
    "x = x[:, np.newaxis]\n",
    "y = y[:, np.newaxis]\n"
   ]
  },
  {
   "cell_type": "code",
   "execution_count": null,
   "metadata": {},
   "outputs": [],
   "source": [
    "import operator\n",
    "\n",
    "from sklearn.metrics import mean_squared_error, r2_score\n",
    "from sklearn.preprocessing import PolynomialFeatures\n",
    "\n",
    "def poly_regr(x, y, degree):\n",
    "    model = LinearRegression()\n",
    "\n",
    "    if degree > 1:\n",
    "        polynomial_features= PolynomialFeatures(degree=degree)\n",
    "        x_poly = polynomial_features.fit_transform(x)\n",
    "\n",
    "        model.fit(x_poly, y)\n",
    "        y_pred = model.predict(x_poly)\n",
    "    else:\n",
    "        model.fit(x, y)\n",
    "        y_pred = model.predict(x)\n",
    "\n",
    "    # Ein paar Kennzahlen\n",
    "    rmse = np.sqrt(mean_squared_error(y,y_pred))\n",
    "    r2 = r2_score(y,y_pred)\n",
    "    \n",
    "    print('Polynomial degree={}'.format(degree))\n",
    "    print('RMSE={}'.format(rmse))\n",
    "    print('R2  ={}'.format(r2))\n",
    "\n",
    "    # Plotte unsere Datenpunkte\n",
    "    plt.scatter(x, y, s=10)\n",
    "    \n",
    "    # Sortiere x für den Plot (Was passiert, wenn wir das nicht tun?)\n",
    "    sort_axis = operator.itemgetter(0)\n",
    "    sorted_zip = sorted(zip(x,y_pred), key=sort_axis)\n",
    "    x, y_pred = zip(*sorted_zip)\n",
    "    \n",
    "    # Plotte die Regressionsfunktion\n",
    "    plt.plot(x, y_pred, color='m')\n",
    "    \n",
    "    plt.show()\n"
   ]
  },
  {
   "cell_type": "code",
   "execution_count": null,
   "metadata": {},
   "outputs": [],
   "source": [
    "poly_regr(x, y, 1)"
   ]
  },
  {
   "cell_type": "code",
   "execution_count": null,
   "metadata": {},
   "outputs": [],
   "source": [
    "poly_regr(x, y, 2)"
   ]
  },
  {
   "cell_type": "code",
   "execution_count": null,
   "metadata": {},
   "outputs": [],
   "source": [
    "poly_regr(x, y, 3)"
   ]
  },
  {
   "cell_type": "code",
   "execution_count": null,
   "metadata": {},
   "outputs": [],
   "source": [
    "poly_regr(x, y, 10)"
   ]
  }
 ],
 "metadata": {
  "kernelspec": {
   "display_name": "Python 3",
   "language": "python",
   "name": "python3"
  },
  "language_info": {
   "codemirror_mode": {
    "name": "ipython",
    "version": 3
   },
   "file_extension": ".py",
   "mimetype": "text/x-python",
   "name": "python",
   "nbconvert_exporter": "python",
   "pygments_lexer": "ipython3",
   "version": "3.7.6"
  }
 },
 "nbformat": 4,
 "nbformat_minor": 4
}
