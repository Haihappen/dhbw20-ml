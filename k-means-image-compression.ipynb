{
 "cells": [
  {
   "cell_type": "markdown",
   "metadata": {
    "pycharm": {
     "name": "#%% md\n"
    }
   },
   "source": [
    "# Bild Kompression"
   ]
  },
  {
   "cell_type": "code",
   "execution_count": null,
   "metadata": {
    "pycharm": {
     "name": "#%%\n"
    }
   },
   "outputs": [],
   "source": [
    "import matplotlib.pyplot as plt\n",
    "from sklearn.datasets import load_sample_image\n",
    "plt.rcParams[\"figure.figsize\"] = (10,8)\n",
    "\n",
    "china = load_sample_image(\"china.jpg\")\n",
    "ax = plt.axes(xticks=[], yticks=[])\n",
    "ax.imshow(china);"
   ]
  },
  {
   "cell_type": "markdown",
   "metadata": {
    "pycharm": {
     "name": "#%% md\n"
    }
   },
   "source": [
    "Das Bild selbst ist als 3-dimensionale Matrix gespeichert (size, height, RGB):"
   ]
  },
  {
   "cell_type": "code",
   "execution_count": null,
   "metadata": {
    "pycharm": {
     "name": "#%%\n"
    }
   },
   "outputs": [],
   "source": [
    "china.shape"
   ]
  },
  {
   "cell_type": "markdown",
   "metadata": {
    "pycharm": {
     "name": "#%% md\n"
    }
   },
   "source": [
    "Wir wandeln die Matrix um in [n Samples x m Features], wobei jede Koordinaten ein Sample wir, und die Features die Farben sind.\n",
    "\n",
    "Die Farben skalieren wir noch auf [0, 1]:"
   ]
  },
  {
   "cell_type": "code",
   "execution_count": null,
   "metadata": {
    "pycharm": {
     "name": "#%%\n"
    }
   },
   "outputs": [],
   "source": [
    "data = china / 255.0\n",
    "data = data.reshape(427 * 640, 3)\n",
    "data.shape"
   ]
  },
  {
   "cell_type": "markdown",
   "metadata": {
    "pycharm": {
     "name": "#%% md\n"
    }
   },
   "source": [
    "Die \"Farbwolke\" können wir visualisieren (aus Effizienzgründen ein Subsample von 10.000 Punkten):"
   ]
  },
  {
   "cell_type": "code",
   "execution_count": null,
   "metadata": {
    "pycharm": {
     "name": "#%%\n"
    }
   },
   "outputs": [],
   "source": [
    "import numpy as np\n",
    "import matplotlib.pyplot as plt\n",
    "\n",
    "def plot_pixels(data, title, colors=None, N=10000):\n",
    "    if colors is None:\n",
    "        colors = data\n",
    "\n",
    "    # choose a random subset\n",
    "    rng = np.random.default_rng(0)\n",
    "    i = rng.permutation(data.shape[0])[:N]\n",
    "    colors = colors[i]\n",
    "    R, G, B = data[i].T\n",
    "\n",
    "    fig, ax = plt.subplots(1, 3, figsize=(16, 6))\n",
    "    ax[0].scatter(R, G, color=colors, marker='.', alpha=0.1)\n",
    "    ax[0].set(xlabel='Rot', ylabel='Grün', xlim=(0, 1), ylim=(0, 1))\n",
    "\n",
    "    ax[1].scatter(R, B, color=colors, marker='.', alpha=0.1)\n",
    "    ax[1].set(xlabel='Rot', ylabel='Blau', xlim=(0, 1), ylim=(0, 1))\n",
    "\n",
    "    ax[2].scatter(G, B, color=colors, marker='.', alpha=0.1)\n",
    "    ax[2].set(xlabel='Grün', ylabel='Blau', xlim=(0, 1), ylim=(0, 1))\n",
    "\n",
    "    fig.suptitle(title, size=20)\n",
    "\n",
    "plot_pixels(data, title='Input Farbraum: 16 Millionen mögliche Farben')"
   ]
  },
  {
   "cell_type": "markdown",
   "metadata": {
    "pycharm": {
     "name": "#%% md\n"
    }
   },
   "source": [
    "Oder als 3-D:"
   ]
  },
  {
   "cell_type": "code",
   "execution_count": null,
   "metadata": {
    "pycharm": {
     "name": "#%%\n"
    }
   },
   "outputs": [],
   "source": [
    "from mpl_toolkits.mplot3d import Axes3D # brauchen wir, damit 3d funktioniert, Axes3D brauchen wir hier nicht\n",
    "ax = plt.axes(projection='3d')\n",
    "\n",
    "rng = np.random.default_rng(0)\n",
    "i = rng.permutation(data.shape[0])[:10000]\n",
    "R, G, B = data[i].T\n",
    "ax.scatter(R, G, B, c=data[i], alpha=0.1);"
   ]
  },
  {
   "cell_type": "markdown",
   "metadata": {
    "pycharm": {
     "name": "#%% md\n"
    }
   },
   "source": [
    "Jetzt reduzieren wir diese 16 Millionen Farben zu nur noch 16 Farben mittels MiniBatch-k-Means.\n",
    "\n",
    "> **MiniBatchKMeans** ist eine Variante des KMeans-Algorithmus, der Mini-Batches verwendet, um die Berechnungszeit zu reduzieren. Der Algorithmus iteriert zwischen zwei Hauptschritten: \n",
    "   - Im ersten Schritt werden nach dem Zufallsprinzip Stichproben aus dem Datensatz gezogen, um einen Minibatch zu bilden. Diese werden dann dem nächstgelegenen Zentroid zugeordnet. \n",
    "   - Im zweiten Schritt werden die Zentroide aktualisiert. Im Gegensatz zu k-Means erfolgt dies pro Stichprobe. Für jede Probe in den Minibatch-Chargen wird der zugeordnete Mittelwert aktualisiert, indem der laufende Mittelwert der Probe und aller vorhergehenden Proben, die diesem Schwerpunkt zugeordnet sind, gebildet wird. Dies hat zur Folge, dass die Änderungsrate für einen Zentroid im Laufe der Zeit abnimmt. \n",
    "\n",
    "> Diese Schritte werden durchgeführt, bis die Konvergenz oder eine vorgegebene Anzahl von Iterationen erreicht ist.\n",
    "\n",
    "> MiniBatchKMeans konvergiert schneller als KMeans, aber die Qualität der Ergebnisse wird verringert. In der Praxis kann dieser Qualitätsunterschied recht gering sein, wie im Beispiel und in der zitierten Referenz gezeigt wird.\n",
    "\n",
    "![](./MiniBatch-Verlust.png)"
   ]
  },
  {
   "cell_type": "code",
   "execution_count": null,
   "metadata": {
    "pycharm": {
     "name": "#%%\n"
    }
   },
   "outputs": [],
   "source": [
    "from sklearn.cluster import MiniBatchKMeans\n",
    "kmeans = MiniBatchKMeans(16)\n",
    "kmeans.fit(data)\n",
    "new_colors = kmeans.cluster_centers_[kmeans.predict(data)]\n",
    "\n",
    "plot_pixels(data, colors=new_colors,\n",
    "            title=\"Reduzierter Farbraum: 16 Farben\")"
   ]
  },
  {
   "cell_type": "markdown",
   "metadata": {
    "pycharm": {
     "name": "#%% md\n"
    }
   },
   "source": [
    "Im Ergebnis ist jedem Pixel der Farbwert eines der 16 des Cluster zugewiesen, diese sind (wieder auf 255 hoch-skaliert):"
   ]
  },
  {
   "cell_type": "code",
   "execution_count": null,
   "metadata": {
    "pycharm": {
     "name": "#%%\n"
    }
   },
   "outputs": [],
   "source": [
    "255*kmeans.cluster_centers_"
   ]
  },
  {
   "cell_type": "code",
   "execution_count": null,
   "metadata": {
    "pycharm": {
     "name": "#%%\n"
    }
   },
   "outputs": [],
   "source": [
    "R, G, B = kmeans.cluster_centers_.T\n",
    "ax = plt.axes(projection='3d')\n",
    "\n",
    "ax.scatter(R, G, B, c=kmeans.cluster_centers_)\n",
    "ax.set_title('Die Cluster-Farben', size=16);"
   ]
  },
  {
   "cell_type": "markdown",
   "metadata": {
    "pycharm": {
     "name": "#%% md\n"
    }
   },
   "source": [
    "Angewandt auf das Bild:"
   ]
  },
  {
   "cell_type": "code",
   "execution_count": null,
   "metadata": {
    "pycharm": {
     "name": "#%%\n"
    }
   },
   "outputs": [],
   "source": [
    "china_recolored = new_colors.reshape(china.shape)\n",
    "\n",
    "fig, ax = plt.subplots(1, 2, figsize=(16, 6),\n",
    "                       subplot_kw=dict(xticks=[], yticks=[]))\n",
    "fig.subplots_adjust(wspace=0.05)\n",
    "ax[0].imshow(china)\n",
    "ax[0].set_title('Original Image', size=16)\n",
    "ax[1].imshow(china_recolored)\n",
    "ax[1].set_title('16-Farben Image', size=16);"
   ]
  },
  {
   "cell_type": "markdown",
   "metadata": {
    "pycharm": {
     "name": "#%% md\n"
    }
   },
   "source": [
    "(Natürlich gibt es bessere Kompressionsalgorithmen, trotzdem:) Cool"
   ]
  },
  {
   "cell_type": "code",
   "execution_count": null,
   "metadata": {},
   "outputs": [],
   "source": []
  }
 ],
 "metadata": {
  "kernelspec": {
   "display_name": "Python 3",
   "language": "python",
   "name": "python3"
  },
  "language_info": {
   "codemirror_mode": {
    "name": "ipython",
    "version": 3
   },
   "file_extension": ".py",
   "mimetype": "text/x-python",
   "name": "python",
   "nbconvert_exporter": "python",
   "pygments_lexer": "ipython3",
   "version": "3.7.6"
  }
 },
 "nbformat": 4,
 "nbformat_minor": 4
}
