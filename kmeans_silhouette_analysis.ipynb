{
 "cells": [
  {
   "cell_type": "code",
   "execution_count": null,
   "metadata": {},
   "outputs": [],
   "source": [
    "%matplotlib inline"
   ]
  },
  {
   "cell_type": "markdown",
   "metadata": {},
   "source": [
    "# Auswahl der Anzahl von Clustern mit Silhouettenanalyse\n",
    "\n",
    "\n",
    "Die Silhouettenanalyse kann verwendet werden, um den Trennungsabstand zwischen den\n",
    "resultierenden Clustern zu untersuchen. \n",
    "\n",
    "Dieses Maß hat einen Bereich von [-1, 1].\n",
    "\n",
    "Silhouettenkoeffizienten nahe +1 zeigen, dass das Sample weit von den benachbarten Clustern entfernt ist.\n",
    "Ein Wert von 0 zeigt an, dass sich die Stichprobe auf oder sehr nahe an der Entscheidungsgrenze zwischen\n",
    "zwei benachbarten Clustern befindet. Negative Werte weisen darauf hin, dass diese Stichproben dem falschen \n",
    "Cluster zugeordnet wurden.\n",
    "\n",
    "Das daraus resultierende Silhouettendiagramm gibt einen Anhaltspunkt dafür, wie gut die Clustertrennung ist\n",
    "und bietet somit eine Möglichkeit, Parameter wie die Anzahl von Clustern visuell zu bewerten. \n",
    "\n",
    "In diesem Beispiel wird die Silhouettenanalyse verwendet, um einen optimalen Wert für unseren Hyperparameter\n",
    "``n_Cluster`` zu bestimmen. "
   ]
  },
  {
   "cell_type": "markdown",
   "metadata": {},
   "source": [
    "Die üblichen Imports:"
   ]
  },
  {
   "cell_type": "code",
   "execution_count": null,
   "metadata": {},
   "outputs": [],
   "source": [
    "from sklearn.datasets import make_blobs\n",
    "from sklearn.cluster import KMeans\n",
    "from sklearn.metrics import silhouette_samples, silhouette_score\n",
    "\n",
    "import matplotlib.pyplot as plt\n",
    "import matplotlib.cm as cm\n",
    "import numpy as np"
   ]
  },
  {
   "cell_type": "markdown",
   "metadata": {},
   "source": [
    "Importieren wir noch einen hübschen Plotter:"
   ]
  },
  {
   "cell_type": "code",
   "execution_count": null,
   "metadata": {},
   "outputs": [],
   "source": [
    "from SilhouettePlot import PlotSilhouette"
   ]
  },
  {
   "cell_type": "markdown",
   "metadata": {},
   "source": [
    "Wir generieren uns Beispieldaten:"
   ]
  },
  {
   "cell_type": "code",
   "execution_count": null,
   "metadata": {},
   "outputs": [],
   "source": [
    "X, y = make_blobs(n_samples=500,\n",
    "                  n_features=2,\n",
    "                  centers=4,\n",
    "                  cluster_std=1,\n",
    "                  center_box=(-10.0, 10.0),\n",
    "                  shuffle=True,\n",
    "                  random_state=1)  # For reproducibility\n"
   ]
  },
  {
   "cell_type": "markdown",
   "metadata": {},
   "source": [
    "Wir schauen uns zunächst mal die \"Ground truth\" als Scatterplot an:"
   ]
  },
  {
   "cell_type": "code",
   "execution_count": null,
   "metadata": {},
   "outputs": [],
   "source": [
    "fig, ax = plt.subplots(1, figsize=(8,7))\n",
    "colors = cm.nipy_spectral(y.astype(float) / 4)\n",
    "ax.scatter(X[:, 0], X[:, 1], marker='.', s=30, lw=0, alpha=0.7,\n",
    "           c=colors, edgecolor='k')"
   ]
  },
  {
   "cell_type": "markdown",
   "metadata": {},
   "source": [
    "Wir sehen eine gewisse Durchdringung der Cluster im unteren linken Viertel:"
   ]
  },
  {
   "cell_type": "code",
   "execution_count": null,
   "metadata": {},
   "outputs": [],
   "source": [
    "ax.scatter(X[:, 0], X[:, 1], marker='.', s=30, lw=0, alpha=0.7,\n",
    "           c=colors, edgecolor='k')"
   ]
  },
  {
   "cell_type": "markdown",
   "metadata": {},
   "source": [
    "Jetzt zu unserer Silhouetten Analyse:"
   ]
  },
  {
   "cell_type": "code",
   "execution_count": null,
   "metadata": {},
   "outputs": [],
   "source": [
    "\n",
    "\n",
    "range_n_clusters = [2, 3, 4, 5, 6]\n",
    "\n",
    "for n_clusters in range_n_clusters:\n",
    "    clusterer = KMeans(n_clusters=n_clusters, random_state=10)\n",
    "    PlotSilhouette(X, clusterer, n_clusters)\n",
    "\n",
    "plt.show()"
   ]
  },
  {
   "cell_type": "markdown",
   "metadata": {},
   "source": [
    "Die Silhouettengrafik zeigt, dass die ``n_cluster`` Werte von 3, 5\n",
    "und 6 schlechte Wahlen für die gegebenen Daten sind, aufgrund des Vorhandenseins von Clustern mit\n",
    "unterdurchschnittlichen Silhouettenwerten und auch durch große Schwankungen in der Größe\n",
    "der Silhouettenparzellen. Die Silhouettenanalyse ist wenig aussagekräftig bei der Entscheidung\n",
    "zwischen 2 und 4.\n",
    "\n",
    "Auch aus der Dicke des Silhouettenplotts kann die Clustergröße visualisiert werden. \n",
    "Der Silhouettenplot für den Cluster 0, bei ``n_cluster == 2`` , ist größer aufgrund der Gruppierung der \n",
    "3 Untercluster zu einem großen Cluster. Bei ``n_cluster == 4`` jedoch, sind alle Darstellungen mehr\n",
    "oder weniger von ähnlicher Dicke und daher von ähnlicher Größe."
   ]
  },
  {
   "cell_type": "code",
   "execution_count": null,
   "metadata": {},
   "outputs": [],
   "source": []
  }
 ],
 "metadata": {
  "kernelspec": {
   "display_name": "Python 3",
   "language": "python",
   "name": "python3"
  },
  "language_info": {
   "codemirror_mode": {
    "name": "ipython",
    "version": 3
   },
   "file_extension": ".py",
   "mimetype": "text/x-python",
   "name": "python",
   "nbconvert_exporter": "python",
   "pygments_lexer": "ipython3",
   "version": "3.7.6"
  }
 },
 "nbformat": 4,
 "nbformat_minor": 1
}
