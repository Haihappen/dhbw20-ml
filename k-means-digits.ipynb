{
 "cells": [
  {
   "cell_type": "markdown",
   "metadata": {
    "collapsed": true,
    "pycharm": {
     "name": "#%% md\n"
    }
   },
   "source": [
    "# Klassifikation des Ziffern-Datensatzes\n",
    "\n",
    "Ein berühmter Datensatz im Machine Learning Umfeld ist von komprimierten \"Bildern\" von handgeschriebenen Ziffern.\n",
    "\n",
    "Pro Ziffer gibt es ungefähr 180 Samples."
   ]
  },
  {
   "cell_type": "code",
   "execution_count": null,
   "outputs": [],
   "source": [
    "from sklearn.datasets import load_digits\n",
    "digits = load_digits()\n",
    "digits.data.shape"
   ],
   "metadata": {
    "collapsed": false,
    "pycharm": {
     "name": "#%%\n"
    }
   }
  },
  {
   "cell_type": "markdown",
   "source": [
    "Ein Beispiel-Image aus dem Datensatz"
   ],
   "metadata": {
    "collapsed": false,
    "pycharm": {
     "name": "#%% md\n"
    }
   }
  },
  {
   "cell_type": "code",
   "execution_count": null,
   "outputs": [],
   "source": [
    "import matplotlib.pyplot as plt\n",
    "plt.gray()\n",
    "plt.matshow(digits.images[0])\n",
    "plt.show()"
   ],
   "metadata": {
    "collapsed": false,
    "pycharm": {
     "name": "#%%\n"
    }
   }
  },
  {
   "cell_type": "markdown",
   "source": [
    "Die Images sind als Vektor(64) entsprechend eines 8x8 Bildes mit 16 Graustufen abgelegt."
   ],
   "metadata": {
    "collapsed": false,
    "pycharm": {
     "name": "#%% md\n"
    }
   }
  },
  {
   "cell_type": "markdown",
   "source": [
    "Wir werden jetzt die vorhandenen Labels ignorieren und versuchen den Datensatz über k-Means in 10 Klassen zu teilen."
   ],
   "metadata": {
    "collapsed": false,
    "pycharm": {
     "name": "#%% md\n"
    }
   }
  },
  {
   "cell_type": "code",
   "execution_count": null,
   "outputs": [],
   "source": [
    "from sklearn.cluster import KMeans\n",
    "\n",
    "kmeans = KMeans(n_clusters=10, random_state=0)\n",
    "clusters = kmeans.fit_predict(digits.data)\n",
    "kmeans.cluster_centers_.shape"
   ],
   "metadata": {
    "collapsed": false,
    "pycharm": {
     "name": "#%%\n"
    }
   }
  },
  {
   "cell_type": "markdown",
   "source": [
    "Das Ergebnis sind 10 Cluster in $\\mathbb{R}^{64}$.\n",
    "Die Cluster-Mittelpunkte sind Punkte im 64-dimensionalen Raum und quasi die \"idealen\" Ziffern.\n",
    "\n",
    "Die schauen wir uns jetzt an:"
   ],
   "metadata": {
    "collapsed": false,
    "pycharm": {
     "name": "#%% md\n"
    }
   }
  },
  {
   "cell_type": "code",
   "execution_count": null,
   "outputs": [],
   "source": [
    "fig, ax = plt.subplots(2, 5, figsize=(8, 3))\n",
    "centers = kmeans.cluster_centers_.reshape(10, 8, 8)\n",
    "for axi, center in zip(ax.flat, centers):\n",
    "    axi.set(xticks=[], yticks=[])\n",
    "    axi.imshow(center, interpolation='nearest', cmap=plt.cm.binary)"
   ],
   "metadata": {
    "collapsed": false,
    "pycharm": {
     "name": "#%%\n"
    }
   }
  },
  {
   "cell_type": "markdown",
   "source": [
    "Sieht ja gar nicht schlecht aus. Aber wir können das nachprüfen."
   ],
   "metadata": {
    "collapsed": false,
    "pycharm": {
     "name": "#%% md\n"
    }
   }
  },
  {
   "cell_type": "markdown",
   "source": [
    "## Fehlerabschätzung\n",
    "Wir vergleichen jetzt die Clusterzugehörigkeit mit dem echten\n",
    "Label aus dem Datensatz:\n",
    "\n",
    "Dazu matchen wir zunächst die Clusterzugehörigkeit mit dem echten Label `digits.target`, dazu\n",
    "werden wir aus einem Array mit dem Cluster-Index ein Array mit der eigentlichen Ziffer machen: "
   ],
   "metadata": {
    "collapsed": false,
    "pycharm": {
     "name": "#%% md\n"
    }
   }
  },
  {
   "cell_type": "code",
   "execution_count": null,
   "outputs": [],
   "source": [
    "from scipy.stats import mode\n",
    "import numpy as np\n",
    "\n",
    "# erzeuge ein Array von Nullen in der selben Form wie unsere k-Means Cluster\n",
    "labels = np.zeros_like(clusters)\n",
    "\n",
    "# hier nutzen wir\n",
    "for i in range(10):\n",
    "    # erzeuge Boolsches Array zum Filtern\n",
    "    mask = (clusters == i)\n",
    "    # und nutzen dieses um die entsprechenden Array-Elemente zu selektieren\n",
    "    # Wir gehen davon aus, dass die am häufigsten auftretende Ziffer die \"echte\" Ziffer des Clusters ist\n",
    "    labels[mask] = mode(digits.target[mask])[0]\n",
    "\n",
    "print(labels, digits.target)"
   ],
   "metadata": {
    "collapsed": false,
    "pycharm": {
     "name": "#%%\n"
    }
   }
  },
  {
   "cell_type": "markdown",
   "source": [
    "und erzeugen den Score:"
   ],
   "metadata": {
    "collapsed": false,
    "pycharm": {
     "name": "#%% md\n"
    }
   }
  },
  {
   "cell_type": "code",
   "execution_count": null,
   "outputs": [],
   "source": [
    "from sklearn.metrics import accuracy_score\n",
    "accuracy_score(digits.target, labels)"
   ],
   "metadata": {
    "collapsed": false,
    "pycharm": {
     "name": "#%%\n"
    }
   }
  },
  {
   "cell_type": "markdown",
   "source": [
    "knapp 80% Treffer!\n",
    "\n",
    "Über die Confusion-Matrix können wir noch prüfen, wo die meisten Fehler entstanden sind:"
   ],
   "metadata": {
    "collapsed": false,
    "pycharm": {
     "name": "#%% md\n"
    }
   }
  },
  {
   "cell_type": "code",
   "execution_count": null,
   "outputs": [],
   "source": [
    "from sklearn.metrics import confusion_matrix\n",
    "import seaborn as sns\n",
    "\n",
    "mat = confusion_matrix(digits.target, labels)\n",
    "sns.heatmap(mat.T, square=True, annot=True, fmt='d', cbar=False,\n",
    "            xticklabels=digits.target_names,\n",
    "            yticklabels=digits.target_names)\n",
    "plt.xlabel('Ziffer gemäß Datensatz Label')\n",
    "plt.ylabel('Ziffer gemäß k-Means');"
   ],
   "metadata": {
    "collapsed": false,
    "pycharm": {
     "name": "#%%\n"
    }
   }
  },
  {
   "cell_type": "markdown",
   "source": [
    "Die Ziffer \"8\" ist schwierig, insbesondere mit \"1\" verwechselt, aber auch Überschneidungen mit \"9\" und \"5\".\n",
    "\n",
    "\"0\", \"6\" und \"7\" sind fast perfekt erkannt."
   ],
   "metadata": {
    "collapsed": false,
    "pycharm": {
     "name": "#%% md\n"
    }
   }
  }
 ],
 "metadata": {
  "kernelspec": {
   "display_name": "Python 3",
   "language": "python",
   "name": "python3"
  },
  "language_info": {
   "codemirror_mode": {
    "name": "ipython",
    "version": 2
   },
   "file_extension": ".py",
   "mimetype": "text/x-python",
   "name": "python",
   "nbconvert_exporter": "python",
   "pygments_lexer": "ipython2",
   "version": "2.7.6"
  }
 },
 "nbformat": 4,
 "nbformat_minor": 0
}